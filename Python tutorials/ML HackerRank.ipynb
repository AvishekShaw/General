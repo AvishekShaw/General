{
 "cells": [
  {
   "cell_type": "code",
   "execution_count": 27,
   "metadata": {},
   "outputs": [
    {
     "name": "stdout",
     "output_type": "stream",
     "text": [
      "0.145\n"
     ]
    }
   ],
   "source": [
    "import math\n",
    "x=[15,  12,  8,   8,   7,   7,   7,   6,   5,   3]\n",
    "y=[10,  25,  17,  11,  13,  17,  20,  13,  9,   15]\n",
    "n=len(x)\n",
    "sumx=sum(x)\n",
    "sumy=sum(y)\n",
    "x2=sum(list(map(lambda i:i**2,x)))\n",
    "y2=sum(list(map(lambda i:i**2,y)))\n",
    "xy=sum(list(map(lambda i,j:i*j,x,y)))\n",
    "dr=math.sqrt((n*x2-pow(sumx,2)))*(math.sqrt(n*y2-pow(sumy,2)))\n",
    "nr=(n*xy)-(sumx*sumy)\n",
    "ans=nr/dr\n",
    "print(\"%.3f\"%ans)"
   ]
  },
  {
   "cell_type": "code",
   "execution_count": 11,
   "metadata": {},
   "outputs": [
    {
     "data": {
      "text/plain": [
       "2.23606797749979"
      ]
     },
     "execution_count": 11,
     "metadata": {},
     "output_type": "execute_result"
    }
   ],
   "source": [
    "import math\n",
    "math.sqrt(5)"
   ]
  },
  {
   "cell_type": "code",
   "execution_count": 28,
   "metadata": {},
   "outputs": [
    {
     "name": "stdout",
     "output_type": "stream",
     "text": [
      "0.208\n"
     ]
    }
   ],
   "source": [
    "import math\n",
    "x=[15,  12,  8,   8,   7,   7,   7,   6,   5,   3]\n",
    "y=[10,  25,  17,  11,  13,  17,  20,  13,  9,   15]\n",
    "n=len(x)\n",
    "meanx=sum(x)/n\n",
    "meany=sum(y)/n\n",
    "for i in range(10):\n",
    "    x[i]-=meanx\n",
    "    y[i]-=meany\n",
    "xy=sum(list(map(lambda i,j:i*j,x,y)))\n",
    "x2=sum(list(map(lambda i:i**2,x)))\n",
    "ans=xy/x2\n",
    "print(\"%.3f\"%ans)"
   ]
  },
  {
   "cell_type": "code",
   "execution_count": 37,
   "metadata": {},
   "outputs": [
    {
     "name": "stdout",
     "output_type": "stream",
     "text": [
      "15.458\n"
     ]
    }
   ],
   "source": [
    "# Enter your code here. Read input from STDIN. Print output to STDOUT\n",
    "import math\n",
    "x=[15,  12,  8,   8,   7,   7,   7,   6,   5,   3]\n",
    "y=[10,  25,  17,  11,  13,  17,  20,  13,  9,   15]\n",
    "n=len(x)\n",
    "x2=sum(list(map(lambda i:i**2,x)))\n",
    "xy=sum(list(map(lambda i,j:i*j,x,y)))\n",
    "intercept=((sum(y)*x2)-(sum(x)*xy))/((n*x2)-sum(x)**2)\n",
    "slope=((n*xy)-(sum(x)*sum(y)))/((n*x2)-(sum(x))**2)\n",
    "ans=intercept+10*slope\n",
    "print(\"%.1f\"%ans)"
   ]
  },
  {
   "cell_type": "code",
   "execution_count": 42,
   "metadata": {},
   "outputs": [
    {
     "ename": "NameError",
     "evalue": "name 'raw_input' is not defined",
     "output_type": "error",
     "traceback": [
      "\u001b[0;31m---------------------------------------------------------------------------\u001b[0m",
      "\u001b[0;31mNameError\u001b[0m                                 Traceback (most recent call last)",
      "\u001b[0;32m<ipython-input-42-581b80db3ee3>\u001b[0m in \u001b[0;36m<module>\u001b[0;34m\u001b[0m\n\u001b[0;32m----> 1\u001b[0;31m \u001b[0mhelp\u001b[0m\u001b[0;34m(\u001b[0m\u001b[0mraw_input\u001b[0m\u001b[0;34m)\u001b[0m\u001b[0;34m\u001b[0m\u001b[0;34m\u001b[0m\u001b[0m\n\u001b[0m",
      "\u001b[0;31mNameError\u001b[0m: name 'raw_input' is not defined"
     ]
    }
   ],
   "source": [
    "help(raw_input)"
   ]
  },
  {
   "cell_type": "code",
   "execution_count": 58,
   "metadata": {},
   "outputs": [
    {
     "name": "stdout",
     "output_type": "stream",
     "text": [
      "44 55\n",
      "56 77\n",
      "99\n"
     ]
    }
   ],
   "source": [
    "def read_ints():\n",
    "    return [int(x) for x in (input().split(\" \"))]\n",
    "x=read_ints()\n",
    "y=read_ints()\n",
    "print(sum(x))"
   ]
  },
  {
   "cell_type": "code",
   "execution_count": 27,
   "metadata": {},
   "outputs": [
    {
     "name": "stdout",
     "output_type": "stream",
     "text": [
      "<map object at 0x7fb88c56d898>\n"
     ]
    }
   ],
   "source": [
    "c='Hello'\n",
    "a=map(lambda x:ord(x),c)\n",
    "# def matchstrings(str:k,str:b):\n",
    "#     pass"
   ]
  },
  {
   "cell_type": "code",
   "execution_count": 22,
   "metadata": {},
   "outputs": [
    {
     "ename": "SyntaxError",
     "evalue": "invalid syntax (<ipython-input-22-083659f89be1>, line 1)",
     "output_type": "error",
     "traceback": [
      "\u001b[0;36m  File \u001b[0;32m\"<ipython-input-22-083659f89be1>\"\u001b[0;36m, line \u001b[0;32m1\u001b[0m\n\u001b[0;31m    help(def)\u001b[0m\n\u001b[0m           ^\u001b[0m\n\u001b[0;31mSyntaxError\u001b[0m\u001b[0;31m:\u001b[0m invalid syntax\n"
     ]
    }
   ],
   "source": [
    "help(def)"
   ]
  },
  {
   "cell_type": "code",
   "execution_count": null,
   "metadata": {},
   "outputs": [],
   "source": []
  }
 ],
 "metadata": {
  "kernelspec": {
   "display_name": "Python 3",
   "language": "python",
   "name": "python3"
  },
  "language_info": {
   "codemirror_mode": {
    "name": "ipython",
    "version": 3
   },
   "file_extension": ".py",
   "mimetype": "text/x-python",
   "name": "python",
   "nbconvert_exporter": "python",
   "pygments_lexer": "ipython3",
   "version": "3.6.9"
  }
 },
 "nbformat": 4,
 "nbformat_minor": 2
}
