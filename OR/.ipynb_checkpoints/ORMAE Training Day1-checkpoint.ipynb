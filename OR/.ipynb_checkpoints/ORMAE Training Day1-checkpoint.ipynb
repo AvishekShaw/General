{
 "cells": [
  {
   "cell_type": "code",
   "execution_count": 1,
   "id": "8a58ca37",
   "metadata": {},
   "outputs": [],
   "source": [
    "from pulp import *"
   ]
  },
  {
   "cell_type": "markdown",
   "id": "b3d280d6",
   "metadata": {},
   "source": [
    "# Exercise 1: Coin Production Problem"
   ]
  },
  {
   "cell_type": "markdown",
   "id": "c1d9f587",
   "metadata": {},
   "source": [
    "#### Let us first analyse this problem.    \n",
    "a) No. of optimization variables: 5   \n",
    "b) No. of inequality constraints: 4   \n",
    "c) No. of slack variables: 4   \n",
    "d) Dimensionality of the basis: 4   \n",
    "\n",
    "Hence, we expect that **only 4 out of the 9 variables (slack+opt) will have non zero values**     \n",
    "   \n",
    "Equivalently, one could say that the solution vector (1000,50,50,50) can be uniquely determined by a linear combination of 4 nos. of 4-d vectors only, provided, the solution vector can be formed in the vector space of the chosen 4 vectors"
   ]
  },
  {
   "cell_type": "markdown",
   "id": "fe474ae7",
   "metadata": {},
   "source": [
    "#### data model"
   ]
  },
  {
   "cell_type": "code",
   "execution_count": 2,
   "id": "205ff211",
   "metadata": {},
   "outputs": [],
   "source": [
    "coin_values = { \"penny\":0.01, \"nickel\":0.05, \"dime\":0.10, \"quarter\":0.25, \"dollar\":1.0}"
   ]
  },
  {
   "cell_type": "code",
   "execution_count": 3,
   "id": "a1276ee5",
   "metadata": {},
   "outputs": [],
   "source": [
    "metal_limits = {\"copper\":1000, \"nickel\":50, \"zinc\":50, \"manganese\":50 }"
   ]
  },
  {
   "cell_type": "code",
   "execution_count": 4,
   "id": "8dec760e",
   "metadata": {},
   "outputs": [],
   "source": [
    "composition = {\n",
    "    \"copper\":    {\"penny\":0.06, \"nickel\":3.8, \"dime\":2.1, \"quarter\":5.2, \"dollar\":7.2},\n",
    "    \"nickel\":    {\"penny\":0.00, \"nickel\":1.2, \"dime\":0.2, \"quarter\":0.5, \"dollar\":0.2},\n",
    "    \"zinc\":      {\"penny\":2.40, \"nickel\":0.0, \"dime\":0.0, \"quarter\":0.0, \"dollar\":0.5},\n",
    "    \"manganese\": {\"penny\":0.00, \"nickel\":0.0, \"dime\":0.0, \"quarter\":0.0, \"dollar\":0.3}\n",
    "}"
   ]
  },
  {
   "cell_type": "markdown",
   "id": "9e5a83db",
   "metadata": {},
   "source": [
    "#### optimization model"
   ]
  },
  {
   "cell_type": "code",
   "execution_count": 7,
   "id": "04f2497e",
   "metadata": {},
   "outputs": [
    {
     "name": "stderr",
     "output_type": "stream",
     "text": [
      "/home/avishek/anaconda3/envs/opt/lib/python3.9/site-packages/pulp/pulp.py:1352: UserWarning: Spaces are not permitted in the name. Converted to '_'\n",
      "  warnings.warn(\"Spaces are not permitted in the name. Converted to '_'\")\n"
     ]
    }
   ],
   "source": [
    "# Initialize the model\n",
    "opt_model = LpProblem(name=\"Coin Production problem\", sense=LpMaximize)"
   ]
  },
  {
   "cell_type": "code",
   "execution_count": 8,
   "id": "b806183e",
   "metadata": {},
   "outputs": [],
   "source": [
    "# Decision Variables\n",
    "x = LpVariable.dicts(\"\", coin_values, lowBound=0, cat=LpContinuous)"
   ]
  },
  {
   "cell_type": "code",
   "execution_count": 9,
   "id": "ec3e3730",
   "metadata": {},
   "outputs": [],
   "source": [
    "# Objective function\n",
    "opt_model += lpSum(coin_values[coin] * x[coin] for coin in coin_values)"
   ]
  },
  {
   "cell_type": "code",
   "execution_count": 10,
   "id": "903abd14",
   "metadata": {},
   "outputs": [],
   "source": [
    "# Constraints\n",
    "for metal in metal_limits:\n",
    "    opt_model += lpSum(composition[metal][coin] * x[coin] for coin in coin_values)\\\n",
    "    <= metal_limits[metal]"
   ]
  },
  {
   "cell_type": "code",
   "execution_count": 11,
   "id": "d071ebc9",
   "metadata": {},
   "outputs": [
    {
     "data": {
      "text/plain": [
       "Coin_Production_problem:\n",
       "MAXIMIZE\n",
       "0.1*_dime + 1.0*_dollar + 0.05*_nickel + 0.01*_penny + 0.25*_quarter + 0.0\n",
       "SUBJECT TO\n",
       "_C1: 2.1 _dime + 7.2 _dollar + 3.8 _nickel + 0.06 _penny + 5.2 _quarter\n",
       " <= 1000\n",
       "\n",
       "_C2: 0.2 _dime + 0.2 _dollar + 1.2 _nickel + 0.5 _quarter <= 50\n",
       "\n",
       "_C3: 0.5 _dollar + 2.4 _penny <= 50\n",
       "\n",
       "_C4: 0.3 _dollar <= 50\n",
       "\n",
       "VARIABLES\n",
       "_dime Continuous\n",
       "_dollar Continuous\n",
       "_nickel Continuous\n",
       "_penny Continuous\n",
       "_quarter Continuous"
      ]
     },
     "execution_count": 11,
     "metadata": {},
     "output_type": "execute_result"
    }
   ],
   "source": [
    "# check the model\n",
    "opt_model"
   ]
  },
  {
   "cell_type": "code",
   "execution_count": 12,
   "id": "cfb5668c",
   "metadata": {},
   "outputs": [
    {
     "data": {
      "text/plain": [
       "[_dime, _dollar, _nickel, _penny, _quarter]"
      ]
     },
     "execution_count": 12,
     "metadata": {},
     "output_type": "execute_result"
    }
   ],
   "source": [
    "# writing to LP file\n",
    "opt_model.writeLP(\"Coin Production problem\")"
   ]
  },
  {
   "cell_type": "code",
   "execution_count": 13,
   "id": "df155ebb",
   "metadata": {},
   "outputs": [
    {
     "name": "stdout",
     "output_type": "stream",
     "text": [
      "Welcome to the CBC MILP Solver \n",
      "Version: 2.10.5 \n",
      "Build Date: Dec  8 2020 \n",
      "\n",
      "command line - cbc /tmp/98d044a6bca84d02aa63e36e727ca37c-pulp.mps max timeMode elapsed branch printingOptions all solution /tmp/98d044a6bca84d02aa63e36e727ca37c-pulp.sol (default strategy 1)\n",
      "At line 2 NAME          MODEL\n",
      "At line 3 ROWS\n",
      "At line 9 COLUMNS\n",
      "At line 27 RHS\n",
      "At line 32 BOUNDS\n",
      "At line 33 ENDATA\n",
      "Problem MODEL has 4 rows, 5 columns and 12 elements\n",
      "Coin0008I MODEL read with 0 errors\n",
      "Option for timeMode changed from cpu to elapsed\n",
      "Presolve 3 (-1) rows, 5 (0) columns and 11 (-1) elements\n",
      "0  Obj -0 Dual inf 0.83515034 (5)\n",
      "3  Obj 113.46154\n",
      "Optimal - objective value 113.46154\n",
      "After Postsolve, objective 113.46154, infeasibilities - dual 0 (0), primal 0 (0)\n",
      "Optimal objective 113.4615385 - 3 iterations time 0.002, Presolve 0.00\n",
      "Option for printingOptions changed from normal to all\n",
      "Total time (CPU seconds):       0.00   (Wallclock seconds):       0.00\n",
      "\n"
     ]
    },
    {
     "data": {
      "text/plain": [
       "1"
      ]
     },
     "execution_count": 13,
     "metadata": {},
     "output_type": "execute_result"
    }
   ],
   "source": [
    "# Solver\n",
    "solver = getSolver('COIN_CMD')\n",
    "opt_model.solve(solver)"
   ]
  },
  {
   "cell_type": "code",
   "execution_count": 14,
   "id": "07a4d80c",
   "metadata": {},
   "outputs": [
    {
     "name": "stdout",
     "output_type": "stream",
     "text": [
      "Model Status: Optimal\n",
      "Model Objective 113.4615385\n"
     ]
    }
   ],
   "source": [
    "print(\"Model Status: \" + str(LpStatus[opt_model.status]))\n",
    "print(\"Model Objective \" + str(value(opt_model.objective)))"
   ]
  },
  {
   "cell_type": "code",
   "execution_count": 15,
   "id": "b9e6fdae",
   "metadata": {},
   "outputs": [
    {
     "data": {
      "text/plain": [
       "{'penny': 0.0,\n",
       " 'nickel': 0.0,\n",
       " 'dime': 0.0,\n",
       " 'quarter': 53.846154,\n",
       " 'dollar': 100.0}"
      ]
     },
     "execution_count": 15,
     "metadata": {},
     "output_type": "execute_result"
    }
   ],
   "source": [
    "solution = {}\n",
    "for coin in coin_values:\n",
    "    solution[coin] = x[coin].varValue\n",
    "solution"
   ]
  },
  {
   "cell_type": "code",
   "execution_count": 17,
   "id": "22f8efda",
   "metadata": {},
   "outputs": [
    {
     "name": "stdout",
     "output_type": "stream",
     "text": [
      "\n",
      "Slack and Dual Variables\n",
      "\n",
      "_C1 : 2.1*_dime + 7.2*_dollar + 3.8*_nickel + 0.06*_penny + 5.2*_quarter <= 1000.0 \t 0.048076923 \t\t -0.0\n",
      "_C2 : 0.2*_dime + 0.2*_dollar + 1.2*_nickel + 0.5*_quarter <= 50.0 \t -0.0 \t\t 3.0769230000000007\n",
      "_C3 : 0.5*_dollar + 2.4*_penny <= 50.0 \t 1.3076923 \t\t -0.0\n",
      "_C4 : 0.3*_dollar <= 50.0 \t -0.0 \t\t 20.0\n",
      "\n"
     ]
    }
   ],
   "source": [
    "# Slack and Dual Values\n",
    "print(\"\")\n",
    "print(\"Slack and Dual Variables\")\n",
    "print(\"\")\n",
    "for name,c in list(opt_model.constraints.items()):\n",
    "    print(name, \":\", c, \"\\t\", c.pi, \"\\t\\t\", c.slack)\n",
    "print(\"\")"
   ]
  },
  {
   "cell_type": "markdown",
   "id": "9f0b4d8c",
   "metadata": {},
   "source": [
    "Our estimate earlier was correct, 2 optimization variables (quarter, dollar) and 2 slack variables (C2,C4) are non zero. Rest all of them are zero"
   ]
  },
  {
   "cell_type": "code",
   "execution_count": null,
   "id": "78751af0",
   "metadata": {},
   "outputs": [],
   "source": []
  }
 ],
 "metadata": {
  "kernelspec": {
   "display_name": "Python 3 (ipykernel)",
   "language": "python",
   "name": "python3"
  },
  "language_info": {
   "codemirror_mode": {
    "name": "ipython",
    "version": 3
   },
   "file_extension": ".py",
   "mimetype": "text/x-python",
   "name": "python",
   "nbconvert_exporter": "python",
   "pygments_lexer": "ipython3",
   "version": "3.9.7"
  }
 },
 "nbformat": 4,
 "nbformat_minor": 5
}
