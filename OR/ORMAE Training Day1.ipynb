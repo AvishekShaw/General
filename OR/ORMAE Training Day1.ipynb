{
 "cells": [
  {
   "cell_type": "markdown",
   "id": "ee95a63e",
   "metadata": {},
   "source": [
    "# Day 1 Problems"
   ]
  },
  {
   "cell_type": "markdown",
   "id": "fb92ff0b",
   "metadata": {},
   "source": [
    "### Avishek Shaw"
   ]
  },
  {
   "cell_type": "code",
   "execution_count": 14,
   "id": "83109fb0",
   "metadata": {},
   "outputs": [],
   "source": [
    "from pulp import *"
   ]
  },
  {
   "cell_type": "markdown",
   "id": "732816cd",
   "metadata": {},
   "source": [
    "# Exercise 1: Coin Production Problem"
   ]
  },
  {
   "cell_type": "markdown",
   "id": "95bd1fdb",
   "metadata": {},
   "source": [
    "#### Let us first analyse this problem.    \n",
    "a) No. of optimization variables: 5   \n",
    "b) No. of inequality constraints: 4   \n",
    "c) No. of slack variables: 4   \n",
    "d) Dimensionality of the basis: 4   \n",
    "\n",
    "Hence, we expect that **only 4 out of the 9 variables (slack+opt) will have non zero values**     \n",
    "   \n",
    "Equivalently, one could say that the solution vector (1000,50,50,50) can be uniquely determined by a linear combination of 4 nos. of 4-d vectors only, provided, the solution vector can be formed in the vector space of the chosen 4 vectors"
   ]
  },
  {
   "cell_type": "markdown",
   "id": "ce393ec4",
   "metadata": {},
   "source": [
    "#### data model"
   ]
  },
  {
   "cell_type": "code",
   "execution_count": 15,
   "id": "8b8494b9",
   "metadata": {},
   "outputs": [],
   "source": [
    "coin_values = { \"penny\":0.01, \"nickel\":0.05, \"dime\":0.10, \"quarter\":0.25, \"dollar\":1.0}"
   ]
  },
  {
   "cell_type": "code",
   "execution_count": 16,
   "id": "ffb4dac2",
   "metadata": {},
   "outputs": [],
   "source": [
    "metal_limits = {\"copper\":1000, \"nickel\":50, \"zinc\":50, \"manganese\":50 }"
   ]
  },
  {
   "cell_type": "code",
   "execution_count": 17,
   "id": "d3a626d1",
   "metadata": {},
   "outputs": [],
   "source": [
    "composition = {\n",
    "    \"copper\":    {\"penny\":0.06, \"nickel\":3.8, \"dime\":2.1, \"quarter\":5.2, \"dollar\":7.2},\n",
    "    \"nickel\":    {\"penny\":0.00, \"nickel\":1.2, \"dime\":0.2, \"quarter\":0.5, \"dollar\":0.2},\n",
    "    \"zinc\":      {\"penny\":2.40, \"nickel\":0.0, \"dime\":0.0, \"quarter\":0.0, \"dollar\":0.5},\n",
    "    \"manganese\": {\"penny\":0.00, \"nickel\":0.0, \"dime\":0.0, \"quarter\":0.0, \"dollar\":0.3}\n",
    "}"
   ]
  },
  {
   "cell_type": "markdown",
   "id": "c63e0d04",
   "metadata": {},
   "source": [
    "#### optimization model"
   ]
  },
  {
   "cell_type": "code",
   "execution_count": 18,
   "id": "77490880",
   "metadata": {},
   "outputs": [
    {
     "name": "stderr",
     "output_type": "stream",
     "text": [
      "/home/avishek/anaconda3/envs/opt/lib/python3.9/site-packages/pulp/pulp.py:1352: UserWarning: Spaces are not permitted in the name. Converted to '_'\n",
      "  warnings.warn(\"Spaces are not permitted in the name. Converted to '_'\")\n"
     ]
    }
   ],
   "source": [
    "# Initialize the model\n",
    "opt_model = LpProblem(name=\"Coin Production problem\", sense=LpMaximize)"
   ]
  },
  {
   "cell_type": "code",
   "execution_count": 19,
   "id": "ceee004b",
   "metadata": {},
   "outputs": [],
   "source": [
    "# Decision Variables\n",
    "x = LpVariable.dicts(\"\", coin_values, lowBound=0, cat=LpContinuous)"
   ]
  },
  {
   "cell_type": "code",
   "execution_count": 20,
   "id": "c789dab3",
   "metadata": {},
   "outputs": [],
   "source": [
    "# Objective function\n",
    "opt_model += lpSum(coin_values[coin] * x[coin] for coin in coin_values)"
   ]
  },
  {
   "cell_type": "code",
   "execution_count": 21,
   "id": "306941e4",
   "metadata": {},
   "outputs": [],
   "source": [
    "# Constraints\n",
    "for metal in metal_limits:\n",
    "    opt_model += lpSum(composition[metal][coin] * x[coin] for coin in coin_values)\\\n",
    "    <= metal_limits[metal]"
   ]
  },
  {
   "cell_type": "code",
   "execution_count": 22,
   "id": "69df2266",
   "metadata": {},
   "outputs": [
    {
     "data": {
      "text/plain": [
       "Coin_Production_problem:\n",
       "MAXIMIZE\n",
       "0.1*_dime + 1.0*_dollar + 0.05*_nickel + 0.01*_penny + 0.25*_quarter + 0.0\n",
       "SUBJECT TO\n",
       "_C1: 2.1 _dime + 7.2 _dollar + 3.8 _nickel + 0.06 _penny + 5.2 _quarter\n",
       " <= 1000\n",
       "\n",
       "_C2: 0.2 _dime + 0.2 _dollar + 1.2 _nickel + 0.5 _quarter <= 50\n",
       "\n",
       "_C3: 0.5 _dollar + 2.4 _penny <= 50\n",
       "\n",
       "_C4: 0.3 _dollar <= 50\n",
       "\n",
       "VARIABLES\n",
       "_dime Continuous\n",
       "_dollar Continuous\n",
       "_nickel Continuous\n",
       "_penny Continuous\n",
       "_quarter Continuous"
      ]
     },
     "execution_count": 22,
     "metadata": {},
     "output_type": "execute_result"
    }
   ],
   "source": [
    "# check the model\n",
    "opt_model"
   ]
  },
  {
   "cell_type": "code",
   "execution_count": 23,
   "id": "58109fef",
   "metadata": {},
   "outputs": [
    {
     "data": {
      "text/plain": [
       "[_dime, _dollar, _nickel, _penny, _quarter]"
      ]
     },
     "execution_count": 23,
     "metadata": {},
     "output_type": "execute_result"
    }
   ],
   "source": [
    "# writing to LP file\n",
    "opt_model.writeLP(\"Coin Production problem\")"
   ]
  },
  {
   "cell_type": "code",
   "execution_count": 24,
   "id": "01d2347f",
   "metadata": {},
   "outputs": [
    {
     "name": "stdout",
     "output_type": "stream",
     "text": [
      "Welcome to the CBC MILP Solver \n",
      "Version: 2.10.5 \n",
      "Build Date: Dec  8 2020 \n",
      "\n",
      "command line - cbc /tmp/38b29c9b6e1f4dc1ac2aec061e02398a-pulp.mps max timeMode elapsed branch printingOptions all solution /tmp/38b29c9b6e1f4dc1ac2aec061e02398a-pulp.sol (default strategy 1)\n",
      "At line 2 NAME          MODEL\n",
      "At line 3 ROWS\n",
      "At line 9 COLUMNS\n",
      "At line 27 RHS\n",
      "At line 32 BOUNDS\n",
      "At line 33 ENDATA\n",
      "Problem MODEL has 4 rows, 5 columns and 12 elements\n",
      "Coin0008I MODEL read with 0 errors\n",
      "Option for timeMode changed from cpu to elapsed\n",
      "Presolve 3 (-1) rows, 5 (0) columns and 11 (-1) elements\n",
      "0  Obj -0 Dual inf 0.83515034 (5)\n",
      "3  Obj 113.46154\n",
      "Optimal - objective value 113.46154\n",
      "After Postsolve, objective 113.46154, infeasibilities - dual 0 (0), primal 0 (0)\n",
      "Optimal objective 113.4615385 - 3 iterations time 0.002, Presolve 0.00\n",
      "Option for printingOptions changed from normal to all\n",
      "Total time (CPU seconds):       0.00   (Wallclock seconds):       0.00\n",
      "\n"
     ]
    },
    {
     "data": {
      "text/plain": [
       "1"
      ]
     },
     "execution_count": 24,
     "metadata": {},
     "output_type": "execute_result"
    }
   ],
   "source": [
    "# Solver\n",
    "solver = getSolver('COIN_CMD')\n",
    "opt_model.solve(solver)"
   ]
  },
  {
   "cell_type": "code",
   "execution_count": 25,
   "id": "e06b7ea3",
   "metadata": {},
   "outputs": [
    {
     "name": "stdout",
     "output_type": "stream",
     "text": [
      "Model Status: Optimal\n",
      "Model Objective 113.4615385\n"
     ]
    }
   ],
   "source": [
    "print(\"Model Status: \" + str(LpStatus[opt_model.status]))\n",
    "print(\"Model Objective \" + str(value(opt_model.objective)))"
   ]
  },
  {
   "cell_type": "code",
   "execution_count": 26,
   "id": "42c405c1",
   "metadata": {},
   "outputs": [
    {
     "data": {
      "text/plain": [
       "{'penny': 0.0,\n",
       " 'nickel': 0.0,\n",
       " 'dime': 0.0,\n",
       " 'quarter': 53.846154,\n",
       " 'dollar': 100.0}"
      ]
     },
     "execution_count": 26,
     "metadata": {},
     "output_type": "execute_result"
    }
   ],
   "source": [
    "solution = {}\n",
    "for coin in coin_values:\n",
    "    solution[coin] = x[coin].varValue\n",
    "solution"
   ]
  },
  {
   "cell_type": "code",
   "execution_count": 27,
   "id": "939417b9",
   "metadata": {},
   "outputs": [
    {
     "name": "stdout",
     "output_type": "stream",
     "text": [
      "\n",
      "Slack and Dual Variables\n",
      "\n",
      "_C1 : 2.1*_dime + 7.2*_dollar + 3.8*_nickel + 0.06*_penny + 5.2*_quarter <= 1000.0 \t 0.048076923 \t\t -0.0\n",
      "_C2 : 0.2*_dime + 0.2*_dollar + 1.2*_nickel + 0.5*_quarter <= 50.0 \t -0.0 \t\t 3.0769230000000007\n",
      "_C3 : 0.5*_dollar + 2.4*_penny <= 50.0 \t 1.3076923 \t\t -0.0\n",
      "_C4 : 0.3*_dollar <= 50.0 \t -0.0 \t\t 20.0\n",
      "\n"
     ]
    }
   ],
   "source": [
    "# Slack and Dual Values\n",
    "print(\"\")\n",
    "print(\"Slack and Dual Variables\")\n",
    "print(\"\")\n",
    "for name,c in list(opt_model.constraints.items()):\n",
    "    print(name, \":\", c, \"\\t\", c.pi, \"\\t\\t\", c.slack)\n",
    "print(\"\")"
   ]
  },
  {
   "cell_type": "markdown",
   "id": "1f0be807",
   "metadata": {},
   "source": [
    "Our estimate earlier was correct, 2 optimization variables (quarter, dollar) and 2 slack variables (C2,C4) are non zero. Rest all of them are zero.\n",
    "Also, the solution is interesting, the solver is maximizing for dollars as it has a disproportionate advantage over other coins"
   ]
  },
  {
   "cell_type": "markdown",
   "id": "e3544337",
   "metadata": {},
   "source": [
    "# Exercise 2: Advertising Budget Problem"
   ]
  },
  {
   "cell_type": "markdown",
   "id": "e8b91ccb",
   "metadata": {},
   "source": [
    "**Let us first analyse this problem**   \n",
    "a) No. of optimization variables: 2  \n",
    "b) No. of inequality constraints: 2   \n",
    "c) No. of slack variables: 2   \n",
    "d) Dimensionality of the basis: 2   \n",
    "\n",
    "Hence, we expect that **only 2 out of the 4 variables (slack+opt) will have non zero values**     "
   ]
  },
  {
   "cell_type": "markdown",
   "id": "3e6709b9",
   "metadata": {},
   "source": [
    "#### data model"
   ]
  },
  {
   "cell_type": "code",
   "execution_count": 28,
   "id": "d56ae0ab",
   "metadata": {},
   "outputs": [],
   "source": [
    "theme = {\"theme_1\":1, \"theme_2\":1}\n",
    "customer_targets = {\"business\":50, \"leisure\":100}\n",
    "acquisition = {\n",
    "    \"theme_1\": {\"business\":2, \"leisure\": 10},\n",
    "    \"theme_2\": {\"business\":8, \"leisure\": 1}\n",
    "}"
   ]
  },
  {
   "cell_type": "code",
   "execution_count": 29,
   "id": "9a38b4dc",
   "metadata": {},
   "outputs": [],
   "source": [
    "# model initialization\n",
    "opt_model = LpProblem(\"Advertising_Budget\", LpMinimize)"
   ]
  },
  {
   "cell_type": "code",
   "execution_count": 30,
   "id": "eff2cdd9",
   "metadata": {},
   "outputs": [],
   "source": [
    "# Decision variables\n",
    "x = LpVariable.dicts(\"\",theme,lowBound=0,cat=LpContinuous)"
   ]
  },
  {
   "cell_type": "code",
   "execution_count": 31,
   "id": "6f6cbcb3",
   "metadata": {},
   "outputs": [],
   "source": [
    "# Objective function\n",
    "opt_model += lpSum(x[i] for i in theme)"
   ]
  },
  {
   "cell_type": "code",
   "execution_count": 32,
   "id": "3ebf184b",
   "metadata": {},
   "outputs": [],
   "source": [
    "# Constraints\n",
    "for target in customer_targets:\n",
    "#     print(acquisition[th][target] for th in theme)\n",
    "    opt_model += lpSum(acquisition[th][target] * x[th] for th in theme) >= customer_targets[target]"
   ]
  },
  {
   "cell_type": "code",
   "execution_count": 33,
   "id": "a5692acb",
   "metadata": {},
   "outputs": [
    {
     "data": {
      "text/plain": [
       "Advertising_Budget:\n",
       "MINIMIZE\n",
       "1*_theme_1 + 1*_theme_2 + 0\n",
       "SUBJECT TO\n",
       "_C1: 2 _theme_1 + 8 _theme_2 >= 50\n",
       "\n",
       "_C2: 10 _theme_1 + _theme_2 >= 100\n",
       "\n",
       "VARIABLES\n",
       "_theme_1 Continuous\n",
       "_theme_2 Continuous"
      ]
     },
     "execution_count": 33,
     "metadata": {},
     "output_type": "execute_result"
    }
   ],
   "source": [
    "# check the model\n",
    "opt_model"
   ]
  },
  {
   "cell_type": "code",
   "execution_count": 34,
   "id": "030bdfe4",
   "metadata": {},
   "outputs": [
    {
     "data": {
      "text/plain": [
       "[_theme_1, _theme_2]"
      ]
     },
     "execution_count": 34,
     "metadata": {},
     "output_type": "execute_result"
    }
   ],
   "source": [
    "# writing to LP file\n",
    "opt_model.writeLP(\"Advertising Budget Problem\")"
   ]
  },
  {
   "cell_type": "code",
   "execution_count": 35,
   "id": "26a78fb2",
   "metadata": {},
   "outputs": [
    {
     "name": "stdout",
     "output_type": "stream",
     "text": [
      "Welcome to the CBC MILP Solver \n",
      "Version: 2.10.5 \n",
      "Build Date: Dec  8 2020 \n",
      "\n",
      "command line - cbc /tmp/186bc2727c21477ba24bda8f737e0e4f-pulp.mps timeMode elapsed branch printingOptions all solution /tmp/186bc2727c21477ba24bda8f737e0e4f-pulp.sol (default strategy 1)\n",
      "At line 2 NAME          MODEL\n",
      "At line 3 ROWS\n",
      "At line 7 COLUMNS\n",
      "At line 14 RHS\n",
      "At line 17 BOUNDS\n",
      "At line 18 ENDATA\n",
      "Problem MODEL has 2 rows, 2 columns and 4 elements\n",
      "Coin0008I MODEL read with 0 errors\n",
      "Option for timeMode changed from cpu to elapsed\n",
      "Presolve 2 (0) rows, 2 (0) columns and 4 (0) elements\n",
      "0  Obj 0 Primal inf 16.25 (2)\n",
      "2  Obj 13.461538\n",
      "Optimal - objective value 13.461538\n",
      "Optimal objective 13.46153846 - 2 iterations time 0.002\n",
      "Option for printingOptions changed from normal to all\n",
      "Total time (CPU seconds):       0.00   (Wallclock seconds):       0.00\n",
      "\n"
     ]
    },
    {
     "data": {
      "text/plain": [
       "1"
      ]
     },
     "execution_count": 35,
     "metadata": {},
     "output_type": "execute_result"
    }
   ],
   "source": [
    "# Solver\n",
    "solver = getSolver('COIN_CMD')\n",
    "opt_model.solve(solver)"
   ]
  },
  {
   "cell_type": "code",
   "execution_count": 36,
   "id": "f2eb3a3c",
   "metadata": {},
   "outputs": [
    {
     "name": "stdout",
     "output_type": "stream",
     "text": [
      "Model Status: Optimal\n",
      "Model Objective 13.4615384\n"
     ]
    }
   ],
   "source": [
    "print(\"Model Status: \" + str(LpStatus[opt_model.status]))\n",
    "print(\"Model Objective \" + str(value(opt_model.objective)))"
   ]
  },
  {
   "cell_type": "code",
   "execution_count": 37,
   "id": "ac58e1ea",
   "metadata": {},
   "outputs": [
    {
     "data": {
      "text/plain": [
       "{'theme_1': 9.6153846, 'theme_2': 3.8461538}"
      ]
     },
     "execution_count": 37,
     "metadata": {},
     "output_type": "execute_result"
    }
   ],
   "source": [
    "solution = {}\n",
    "for th in theme:\n",
    "    solution[th] = x[th].varValue\n",
    "solution"
   ]
  },
  {
   "cell_type": "code",
   "execution_count": 38,
   "id": "fc1157b5",
   "metadata": {},
   "outputs": [
    {
     "name": "stdout",
     "output_type": "stream",
     "text": [
      "\n",
      "Slack and Dual Variables\n",
      "\n",
      "_C1 : 2*_theme_1 + 8*_theme_2 >= 50 \t 0.11538462 \t\t -0.0\n",
      "_C2 : 10*_theme_1 + _theme_2 >= 100 \t 0.076923077 \t\t -0.0\n",
      "\n"
     ]
    }
   ],
   "source": [
    "# Slack and Dual Values\n",
    "print(\"\")\n",
    "print(\"Slack and Dual Variables\")\n",
    "print(\"\")\n",
    "for name,c in list(opt_model.constraints.items()):\n",
    "    print(name, \":\", c, \"\\t\", c.pi, \"\\t\\t\", c.slack)\n",
    "print(\"\")"
   ]
  },
  {
   "cell_type": "markdown",
   "id": "532ad627",
   "metadata": {},
   "source": [
    "As the leisure requirement is more, the solution is dominated by its requirement. i.e. we have more spending on theme1 than theme2"
   ]
  },
  {
   "cell_type": "code",
   "execution_count": null,
   "id": "d53b91f5",
   "metadata": {},
   "outputs": [],
   "source": []
  }
 ],
 "metadata": {
  "kernelspec": {
   "display_name": "Python 3 (ipykernel)",
   "language": "python",
   "name": "python3"
  },
  "language_info": {
   "codemirror_mode": {
    "name": "ipython",
    "version": 3
   },
   "file_extension": ".py",
   "mimetype": "text/x-python",
   "name": "python",
   "nbconvert_exporter": "python",
   "pygments_lexer": "ipython3",
   "version": "3.9.7"
  }
 },
 "nbformat": 4,
 "nbformat_minor": 5
}
