{
 "cells": [
  {
   "cell_type": "code",
   "execution_count": 9,
   "metadata": {},
   "outputs": [],
   "source": [
    "class Node():\n",
    "    \n",
    "    def __init__(self,name):\n",
    "        self.name = name\n",
    "    \n",
    "    def getName(self):\n",
    "        return self.name\n",
    "    \n",
    "    def __str__(self):\n",
    "        return self.getName()\n",
    "    "
   ]
  },
  {
   "cell_type": "code",
   "execution_count": 36,
   "metadata": {},
   "outputs": [
    {
     "name": "stdout",
     "output_type": "stream",
     "text": [
      "Delhi\n",
      "Bombay\n"
     ]
    }
   ],
   "source": [
    "delhi = Node(\"Delhi\")\n",
    "bombay = Node(\"Bombay\")\n",
    "kolkata = Node(\"Kolkata\")\n",
    "chennai = Node(\"Chennai\")\n",
    "jaipur = Node(\"Jaipur\")\n",
    "print(delhi)\n",
    "print(bombay)"
   ]
  },
  {
   "cell_type": "code",
   "execution_count": 18,
   "metadata": {},
   "outputs": [],
   "source": [
    "class Edge():\n",
    "    \n",
    "    def __init__(self,src,dest):\n",
    "        self.src = src\n",
    "        self.dest = dest\n",
    "    \n",
    "    def getSrc(self):\n",
    "        return self.src\n",
    "    \n",
    "    def getDest(self):\n",
    "        return self.dest\n",
    "    \n",
    "    def __str__(self):\n",
    "        result = \"\"\n",
    "        result  = result + self.getSrc().getName() + \" ------> \" + self.getDest().getName()\n",
    "        return result"
   ]
  },
  {
   "cell_type": "code",
   "execution_count": 19,
   "metadata": {},
   "outputs": [
    {
     "name": "stdout",
     "output_type": "stream",
     "text": [
      "Delhi ------> Bombay\n"
     ]
    }
   ],
   "source": [
    "edge = Edge(delhi,bombay)\n",
    "print(edge)"
   ]
  },
  {
   "cell_type": "code",
   "execution_count": 94,
   "metadata": {},
   "outputs": [],
   "source": [
    "class DiGraph():\n",
    "    def __init__(self,edges={}):\n",
    "        self.edges = edges\n",
    "    \n",
    "    def addNode(self,node):\n",
    "        if node in self.edges:\n",
    "            raise ValueError(\"node already present in graph\")\n",
    "        self.edges[node] = []\n",
    "    \n",
    "    def addEdge(self,edge):\n",
    "        src = edge.getSrc()\n",
    "        dest = edge.getDest()\n",
    "        \n",
    "        if not (src in self.edges and dest in self.edges):\n",
    "            raise ValueError(\"Node not in graph\")\n",
    "            \n",
    "        if dest in self.edges[src]:\n",
    "            error_str = \"Edge \" + src.getName() +\" -------> \" + dest.getName() + \" already present\"\n",
    "            raise ValueError(error_str)\n",
    "        self.edges[src].append(dest)\n",
    "    \n",
    "    def __str__(self):\n",
    "        result = \"\"\n",
    "        for src in self.edges:\n",
    "            for dest in self.edges[src]:\n",
    "                result =  result + src.getName() + \" -----------> \" + dest.getName() + \"\\n\"\n",
    "        return result\n",
    "    \n",
    "    def isConnected(self,src,dest):\n",
    "        return dest in self.edges[src]\n",
    "    \n",
    "    def hasNode(self,node):\n",
    "        return node in self.edges\n",
    "    \n",
    "    def childrenOf(self,node):\n",
    "        return self.edges[node]\n",
    "    "
   ]
  },
  {
   "cell_type": "code",
   "execution_count": 95,
   "metadata": {},
   "outputs": [],
   "source": [
    "g = DiGraph()\n",
    "g.addNode(delhi)\n",
    "g.addNode(bombay)\n",
    "g.addNode(kolkata)\n",
    "g.addNode(chennai)\n",
    "g.addNode(jaipur)\n",
    "g.addEdge(Edge(kolkata,chennai))\n",
    "g.addEdge(Edge(delhi,bombay))\n",
    "# g.addEdge(Edge(kolkata,chennai))"
   ]
  },
  {
   "cell_type": "code",
   "execution_count": null,
   "metadata": {},
   "outputs": [],
   "source": []
  },
  {
   "cell_type": "code",
   "execution_count": 96,
   "metadata": {
    "scrolled": true
   },
   "outputs": [
    {
     "data": {
      "text/plain": [
       "False"
      ]
     },
     "execution_count": 96,
     "metadata": {},
     "output_type": "execute_result"
    }
   ],
   "source": [
    "g.isConnected(delhi,bombay)\n",
    "g.isConnected(delhi,kolkata)"
   ]
  },
  {
   "cell_type": "code",
   "execution_count": 98,
   "metadata": {},
   "outputs": [
    {
     "name": "stdout",
     "output_type": "stream",
     "text": [
      "Chennai\n"
     ]
    }
   ],
   "source": [
    "g.hasNode(Node(\"ban\"))\n",
    "for dest in g.childrenOf(kolkata):\n",
    "    print(dest.getName())"
   ]
  },
  {
   "cell_type": "code",
   "execution_count": 73,
   "metadata": {},
   "outputs": [
    {
     "name": "stdout",
     "output_type": "stream",
     "text": [
      "a\n",
      "c\n"
     ]
    }
   ],
   "source": [
    "for k in dic:\n",
    "    print(k)"
   ]
  },
  {
   "cell_type": "code",
   "execution_count": null,
   "metadata": {},
   "outputs": [],
   "source": []
  }
 ],
 "metadata": {
  "kernelspec": {
   "display_name": "Python 3",
   "language": "python",
   "name": "python3"
  },
  "language_info": {
   "codemirror_mode": {
    "name": "ipython",
    "version": 3
   },
   "file_extension": ".py",
   "mimetype": "text/x-python",
   "name": "python",
   "nbconvert_exporter": "python",
   "pygments_lexer": "ipython3",
   "version": "3.8.5"
  }
 },
 "nbformat": 4,
 "nbformat_minor": 4
}
