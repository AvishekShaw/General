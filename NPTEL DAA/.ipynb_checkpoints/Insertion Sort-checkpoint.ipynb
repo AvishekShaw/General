{
 "cells": [
  {
   "cell_type": "code",
   "execution_count": 32,
   "metadata": {},
   "outputs": [],
   "source": [
    "def iter_SelectionSort(A):\n",
    "    n=len(A)\n",
    "    for pos in range(1,n):\n",
    "        nextpos=pos\n",
    "        while(nextpos>0 and A[nextpos]<A[nextpos-1]):\n",
    "            swap(A,nextpos,nextpos-1)\n",
    "            nextpos-=1\n",
    "    return A\n",
    "\n",
    "def swap(A,i,j):\n",
    "    temp=A[i]\n",
    "    A[i]=A[j]\n",
    "    A[j]=temp\n",
    "    return A"
   ]
  },
  {
   "cell_type": "code",
   "execution_count": 33,
   "metadata": {},
   "outputs": [
    {
     "name": "stdout",
     "output_type": "stream",
     "text": [
      "[24 19 51  6 21 27 21 19 32 53]\n",
      "[ 6 19 19 21 21 24 27 32 51 53]\n"
     ]
    }
   ],
   "source": [
    "import numpy as np\n",
    "A=np.random.randint(low=5,high=55,size=10)\n",
    "print(A)\n",
    "B=iter_SelectionSort(A)\n",
    "print(B)"
   ]
  },
  {
   "cell_type": "code",
   "execution_count": 56,
   "metadata": {},
   "outputs": [
    {
     "name": "stderr",
     "output_type": "stream",
     "text": [
      "UsageError: Line magic function `%print(B)` not found.\n"
     ]
    }
   ],
   "source": [
    "def rec_SelectionSort(A,B):\n",
    "    while(len(B)>0):\n",
    "        ele=B[0]\n",
    "        np.delete(B,0,axis=None)\n",
    "#         print(B)\n",
    "        A.append(ele)\n",
    "#         print(A)\n",
    "        n=len(A)\n",
    "        for pos in range(1,n):\n",
    "            nextpos=pos\n",
    "            while(nextpos>0 and A[nextpos]<A[nextpos-1]):\n",
    "                swap(A,nextpos,nextpos-1)\n",
    "                nextpos-=1\n",
    "        rec_SelectionSort(A,B)\n",
    "    return A\n",
    "\n",
    "A=[1,2,5,66]\n",
    "B=[3]\n",
    "sortedA=rec_SelectionSort(A,B)\n",
    "print(sortedA)"
   ]
  },
  {
   "cell_type": "code",
   "execution_count": null,
   "metadata": {},
   "outputs": [],
   "source": []
  }
 ],
 "metadata": {
  "kernelspec": {
   "display_name": "Python 3",
   "language": "python",
   "name": "python3"
  },
  "language_info": {
   "codemirror_mode": {
    "name": "ipython",
    "version": 3
   },
   "file_extension": ".py",
   "mimetype": "text/x-python",
   "name": "python",
   "nbconvert_exporter": "python",
   "pygments_lexer": "ipython3",
   "version": "3.6.9"
  }
 },
 "nbformat": 4,
 "nbformat_minor": 2
}
